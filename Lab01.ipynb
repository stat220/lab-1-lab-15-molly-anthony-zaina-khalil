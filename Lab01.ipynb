{
  "nbformat": 4,
  "nbformat_minor": 0,
  "metadata": {
    "colab": {
      "provenance": []
    },
    "kernelspec": {
      "name": "python3",
      "display_name": "Python 3"
    },
    "language_info": {
      "name": "python"
    }
  },
  "cells": [
    {
      "cell_type": "markdown",
      "source": [
        "Imports:"
      ],
      "metadata": {
        "id": "W5Q-L_kmzMQT"
      }
    },
    {
      "cell_type": "code",
      "execution_count": null,
      "metadata": {
        "id": "LmUiExjrzLeh"
      },
      "outputs": [],
      "source": []
    },
    {
      "cell_type": "markdown",
      "source": [
        "**General Salary Data:** Start by plotting and describing the general shape of the salary data. This initial step sets the foundation for your analysis."
      ],
      "metadata": {
        "id": "EVkKXGkVzQFI"
      }
    },
    {
      "cell_type": "code",
      "source": [],
      "metadata": {
        "id": "moapYuVXzPbd"
      },
      "execution_count": null,
      "outputs": []
    },
    {
      "cell_type": "markdown",
      "source": [
        "**Effect of Experience on Salary**: Investigate how experience influences data scientist salaries. Create visualizations or tables to illustrate any trends or patterns."
      ],
      "metadata": {
        "id": "5ObTxC3PzXDg"
      }
    },
    {
      "cell_type": "code",
      "source": [],
      "metadata": {
        "id": "d8ejtSHozeN2"
      },
      "execution_count": null,
      "outputs": []
    },
    {
      "cell_type": "markdown",
      "source": [
        "**Impact of Company Size on Salary:** Explore how company size affects data scientist salaries. Generate plots or tables to\n",
        "visualize this relationship."
      ],
      "metadata": {
        "id": "NZtUQDE_zeq_"
      }
    },
    {
      "cell_type": "code",
      "source": [],
      "metadata": {
        "id": "ZBQ4R2hLziXb"
      },
      "execution_count": null,
      "outputs": []
    },
    {
      "cell_type": "markdown",
      "source": [
        "**Job Title Analysis:** Job titles can vary significantly. For this project, select a keyword or phrase to distinguish between different job titles. For instance, you can differentiate between job titles containing the word ”Analyst” and those that do not. To achieve this, you may\n",
        "find the str.contains function in Pandas helpful. Refer to this resource for examples:\n",
        "https://www.geeksforgeeks.org/python-pandas-series-str-contains. Explore\n",
        "various job titles to decide on the keyword or phrase you want to focus on."
      ],
      "metadata": {
        "id": "GFnaHe_hzi2q"
      }
    },
    {
      "cell_type": "code",
      "source": [],
      "metadata": {
        "id": "6KfQX1q8zmni"
      },
      "execution_count": null,
      "outputs": []
    },
    {
      "cell_type": "markdown",
      "source": [
        "**Interactions Between Relationships:** Investigate potential interactions between the three factors (experience, company size,\n",
        "and job title). Create a two-way table that displays essential statistics at the intersection of two variables. For instance, construct a table with job titles on the left,\n",
        "company sizes at the top, and each cell representing the mean salary for each job\n",
        "title/company size combination."
      ],
      "metadata": {
        "id": "l_YTfXBKzpR5"
      }
    },
    {
      "cell_type": "code",
      "source": [],
      "metadata": {
        "id": "nn2Z3lhlzqEr"
      },
      "execution_count": null,
      "outputs": []
    },
    {
      "cell_type": "markdown",
      "source": [
        "**Conclusion**: Summarize your findings by listing all significant relationships you have discovered\n",
        "during your analysis."
      ],
      "metadata": {
        "id": "C3-ak2XJzqbm"
      }
    },
    {
      "cell_type": "markdown",
      "source": [],
      "metadata": {
        "id": "AVmESKhP0LgS"
      }
    }
  ]
}